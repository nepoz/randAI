{
 "cells": [
  {
   "cell_type": "code",
   "execution_count": 377,
   "metadata": {},
   "outputs": [],
   "source": [
    "\"\"\"\n",
    "We are going to implement from scratch, with some help from\n",
    "numpy, a Perceptron, ADALINE, and Logistic Regression Model.\n",
    "We will be using the iris dataset to train and test our models.\n",
    "\"\"\"\n",
    "from math import exp\n",
    "import pandas as pd\n",
    "import numpy as np\n",
    "import matplotlib.pyplot as plt\n",
    "from sklearn.model_selection import train_test_split\n",
    "from sklearn.preprocessing import StandardScaler"
   ]
  },
  {
   "cell_type": "code",
   "execution_count": 378,
   "metadata": {},
   "outputs": [
    {
     "data": {
      "image/png": "[encoded data removed]",
      "text/plain": [
       "<Figure size 432x288 with 1 Axes>"
      ]
     },
     "metadata": {
      "needs_background": "light"
     },
     "output_type": "display_data"
    }
   ],
   "source": [
    "\"\"\"\n",
    "Before we get into defining our models, we will explore the iris dataset and \n",
    "figure out what features we should use for classification\n",
    "\"\"\"\n",
    "iris = pd.read_csv('iris.data', header=None, \n",
    "                   names=['sepal_length', 'sepal_width', 'petal_length', 'petal_width', 'species'])\n",
    "\n",
    "## Let's see if we have linear separability with sepal length and petal length\n",
    "plt.scatter(iris.loc[0:49, 'sepal_length'], iris.loc[0:49, 'petal_length'], c='r', label=\"Iris-setosa\")\n",
    "plt.scatter(iris.loc[50:99, 'sepal_length'], iris.loc[50:99, 'petal_length'], c='b', label=\"Iris-versicolor\")\n",
    "plt.scatter(iris.loc[100:, 'sepal_length'], iris.loc[100:, 'petal_length'], c='g', marker='x', label=\"Iris-virginica\")\n",
    "plt.xlabel('sepal length (cm)')\n",
    "plt.ylabel('petal length (cm)')\n",
    "plt.legend(loc='lower right')\n",
    "\n",
    "plt.show()"
   ]
  },
  {
   "cell_type": "code",
   "execution_count": 379,
   "metadata": {},
   "outputs": [],
   "source": [
    "\"\"\"\n",
    "From the scatter plot shown above, we can see that there is clear linear separability\n",
    "between iris-setosa and either of the other two species, however the line is blurred between \n",
    "iris-versicolor and iris-virginica. Our from-scratch models will use binary classification to \n",
    "distinguish between setosa and versicolor samples.\n",
    "\"\"\"\n",
    "features = np.asarray(list(zip(iris.loc[0:99, 'sepal_length'], iris.loc[0:99, 'petal_length'])))\n",
    "targets = np.where(iris.loc[0:99, 'species'] == 'Iris-setosa', 1, -1)"
   ]
  },
  {
   "cell_type": "code",
   "execution_count": 380,
   "metadata": {},
   "outputs": [],
   "source": [
    "\"\"\"\n",
    "Now that we have our training data and targets, we will segment them into training and \n",
    "testing subsets using the sklearn train_test_split function, with 30% of the data being used\n",
    "to test.\n",
    "\"\"\"\n",
    "features_train, features_test, targets_train, targets_test = train_test_split(\n",
    "    features, targets, stratify=targets, test_size=0.3)"
   ]
  },
  {
   "cell_type": "code",
   "execution_count": 381,
   "metadata": {},
   "outputs": [],
   "source": [
    "\"\"\"\n",
    "First up to bat is the Perceptron. This is a very basic linear classification model\n",
    "and the first to draw inspiration from human neurons. The concept is very simple: Given \n",
    "a dataset with linearly separable features, it will compute a net sum using some weights\n",
    "that we will try and optimize. If the net sum is over some threshold, we have a positive output value,\n",
    "else we have a negative output value. This is based on the unit step function.\n",
    "\"\"\"\n",
    "class Perceptron(object):\n",
    "    \"\"\"\n",
    "    We initialize our model with a learning rate (affects how much we incremement our weights by,\n",
    "    a random_state that we will use when generating our initial weights, and the number of epochs our model\n",
    "    will run through during training. We give them default values for convenience.\n",
    "    \"\"\"\n",
    "    def __init__(self, learning_rate=0.01, random_state=1, epochs=50):\n",
    "        self.learning_rate=0.01\n",
    "        self.random_state=random_state\n",
    "        self.epochs=epochs\n",
    "        \n",
    "    \"\"\"\n",
    "    This method will fit our model to the given training dataset.\n",
    "    --------------\n",
    "    Parameters\n",
    "    \n",
    "    features: np.ndarray: Each row should be an array of features for the training sample\n",
    "    targets: np.ndarray, array-like: Known class labels for each training sample.\n",
    "    \n",
    "    ----------------\n",
    "    Output\n",
    "    \n",
    "    A trained model with weights adjusted according to data set\n",
    "    \n",
    "    ---------------\n",
    "    \"\"\"\n",
    "    def fit(self, features, targets):\n",
    "        \n",
    "        ## In order for calculations later on to be smoother, we insert a column of 1's to the training dataset\n",
    "        features = np.insert(features, 0, 1, axis=1)\n",
    "        \n",
    "        ## Let us define some initial weights. We will draw from the normal distribution.\n",
    "        rgen = np.random.RandomState(self.random_state)\n",
    "        self.w_ = rgen.normal(loc=0.0, scale=1.0, size=features[0].shape[0])\n",
    "        \n",
    "        ## We will run over the training samples {epochs} number of times\n",
    "        for _ in range(self.epochs):\n",
    "            for feature_vector, target in zip(features, targets):\n",
    "                output = self.predict(feature_vector)\n",
    "                error = target - output\n",
    "                \n",
    "                ## Update the weights based on error\n",
    "                self.w_ += self.learning_rate * error * feature_vector\n",
    "                \n",
    "        ## After running through specified epochs and adjusting weights, return trained model\n",
    "        return self\n",
    "        \n",
    "    ## Calculates the net sum for a given feature vector by multiplying weights with corresponding feature values\n",
    "    def net_sum(self, feature_vector):\n",
    "        return (self.w_.T.dot(feature_vector))\n",
    "    \n",
    "    ## Threshold function that predicts label based on net sum of features.\n",
    "    def predict(self, feature_vector):\n",
    "        net_sum = self.net_sum(feature_vector)\n",
    "        return np.where(net_sum >= 0.0, 1, -1)\n",
    "    \n",
    "    ## Will return the accuracy of model as a decimal\n",
    "    def test(self, test_features, test_targets):\n",
    "        outputs = []\n",
    "        test_features = np.insert(test_features, 0, 1, axis=1)\n",
    "        \n",
    "        for feature_vector in test_features:\n",
    "            outputs.append(self.predict(feature_vector))\n",
    "        \n",
    "        errors = 0\n",
    "        for i, output in enumerate(outputs):\n",
    "            if output != test_targets[i]:\n",
    "                errors += 1\n",
    "        \n",
    "        return 1.0 - (errors / len(test_targets))\n",
    "        "
   ]
  },
  {
   "cell_type": "code",
   "execution_count": 382,
   "metadata": {},
   "outputs": [
    {
     "name": "stdout",
     "output_type": "stream",
     "text": [
      "Perceptron made predictions on test data with an accuracy of 100.0%\n"
     ]
    }
   ],
   "source": [
    "\"\"\"\n",
    "Here, we will train our perceptron, and test its performance\n",
    "\"\"\"\n",
    "ppn = Perceptron()\n",
    "ppn = ppn.fit(features_train, targets_train)\n",
    "ppn_accuracy = ppn.test(features_test, targets_test)\n",
    "\n",
    "print(f\"Perceptron made predictions on test data with an accuracy of {ppn_accuracy * 100}%\")"
   ]
  },
  {
   "cell_type": "code",
   "execution_count": 383,
   "metadata": {},
   "outputs": [],
   "source": [
    "\"\"\"\n",
    "The next linear classification model we will implement is the Adaptive Linear Neuron, \n",
    "or ADALINE. This model will use gradient descent to optimize its cost function, ie. minimize\n",
    "the sum squared error. For it to be effective, we will first scale our test and train features \n",
    "using sklearn's StandardScaler\n",
    "\"\"\"\n",
    "sc = StandardScaler()\n",
    "sc = sc.fit(features_train)\n",
    "\n",
    "features_train_scaled = sc.transform(features_train)\n",
    "features_test_scaled = sc.transform(features_test)"
   ]
  },
  {
   "cell_type": "code",
   "execution_count": 384,
   "metadata": {},
   "outputs": [],
   "source": [
    "\"\"\"\n",
    "Now, we implement our ADALINE model. It uses a simple linear activation function, phi(z) = z.\n",
    "Our threshold function remains more or less the same: T(x) = 1 if phi(z) >= 0.0, -1 otherwise.\n",
    "Or, T(x) = 1 if z >= 0.0, -1 otherwise. Weights are optimized using gradient descent.\n",
    "\"\"\"\n",
    "class Adaline(object):\n",
    "    def __init__(self, learning_rate=0.01, random_seed=1, epochs=50):\n",
    "        self.learning_rate = learning_rate,\n",
    "        self.random_seed = random_seed,\n",
    "        self.epochs = epochs\n",
    "        \n",
    "    def fit(self, features, targets):\n",
    "        \n",
    "        # Add 1 to each feature vector so that x_0 = 1 for multiplication with bias unit\n",
    "        features = np.insert(features, 0, 1, axis=1)\n",
    "        \n",
    "        ##Initialize weights using the normal distribution\n",
    "        rgen = np.random.RandomState(self.random_seed)\n",
    "        self.w_ = rgen.normal(loc=0.0, scale=1, size=features[0].shape[0])\n",
    "        \n",
    "        for _ in range(self.epochs):\n",
    "            errors = []\n",
    "            for feature_vector, target in zip(features, targets):\n",
    "                output = self.predict(feature_vector)\n",
    "                errors.append(target - output)\n",
    "            \n",
    "            ##Weight update based on all samples for gradient descent\n",
    "            update = self.learning_rate * (np.asarray(errors).dot(features))\n",
    "            self.w_ += update\n",
    "            \n",
    "        return self\n",
    "        \n",
    "    def net_sum(self, feature_vector):\n",
    "        return (self.w_.T.dot(feature_vector))\n",
    "    \n",
    "    def activate(self, net_sum):\n",
    "        return net_sum\n",
    "    \n",
    "    def predict(self, feature_vector):\n",
    "        net_sum = self.net_sum(feature_vector)\n",
    "        output = self.activate(net_sum)    ## This has no effect as activation function is linear in this case\n",
    "        \n",
    "        if output >= 0.0:\n",
    "            return 1\n",
    "        else:\n",
    "            return -1\n",
    "    \n",
    "    def get_cost(self, errors):\n",
    "        errors = np.asarray(errors)\n",
    "        return (errors ** 2).sum()\n",
    "    \n",
    "    def test(self, test_features, test_targets):\n",
    "        outputs = []\n",
    "        test_features = np.insert(test_features, 0, 1, axis=1)\n",
    "        \n",
    "        for feature_vector in test_features:\n",
    "            outputs.append(self.predict(feature_vector))\n",
    "            \n",
    "        errors = 0\n",
    "        for i, prediction in enumerate(outputs):\n",
    "            if (prediction != test_targets[i]):\n",
    "                errors += 1\n",
    "                \n",
    "        return 1 - (errors / len(test_targets))"
   ]
  },
  {
   "cell_type": "code",
   "execution_count": 385,
   "metadata": {},
   "outputs": [
    {
     "name": "stdout",
     "output_type": "stream",
     "text": [
      "Adaline made predictions on test data with an accuracy of 100.0%\n"
     ]
    }
   ],
   "source": [
    "\"\"\"\n",
    "We fit our Adaline implementation to the iris training data (after scaling)\n",
    "and test its effectiveness\n",
    "\"\"\"\n",
    "ad = Adaline()\n",
    "ad = ad.fit(features_train_scaled, targets_train)\n",
    "ad_accuracy = ad.test(features_test_scaled, targets_test)\n",
    "\n",
    "print(f\"Adaline made predictions on test data with an accuracy of {ad_accuracy * 100}%\")"
   ]
  },
  {
   "cell_type": "code",
   "execution_count": 386,
   "metadata": {},
   "outputs": [],
   "source": [
    "\"\"\"\n",
    "Our final implementation of a linear learning model will be that of logistic regression\n",
    "which uses the sigmoid activation function. Optimization is achieved through gradient descent.\n",
    "Despite its name suggesting this is a Regression model, it is still a binary classifier.\n",
    "\"\"\"\n",
    "class LogisticRegression():\n",
    "    def __init__(self, learning_rate=0.01, random_seed=1, epochs=50):\n",
    "        self.learning_rate = learning_rate\n",
    "        self.random_seed = random_seed\n",
    "        self.epochs = epochs\n",
    "    \n",
    "    def fit(self, features, targets):\n",
    "        ## Adding a column of 1's to represent x_0 and make calculations involving bias unit easier\n",
    "        features = np.insert(features, 0, 1, axis=1)\n",
    "        \n",
    "        ## Generating initial weights using the normal distribution\n",
    "        rgen = np.random.RandomState(self.random_seed)\n",
    "        self.w_ = rgen.normal(loc=0.0, scale=1, size=features[0].shape[0])\n",
    "        \n",
    "        for _ in range(self.epochs):\n",
    "            errors = []\n",
    "            for feature_vector, target in zip(features, targets):\n",
    "                output = self.predict(feature_vector)\n",
    "                errors.append(target - output)\n",
    "            \n",
    "            ## Update of weights very similar to method used in Adaline\n",
    "            update = self.learning_rate * (np.asarray(errors).dot(features))\n",
    "            self.w_ += update\n",
    "        \n",
    "        return self\n",
    "            \n",
    "    def net_sum(self, feature_vector):\n",
    "        return (self.w_.T.dot(feature_vector))\n",
    "    \n",
    "    def activate(self, net_sum):\n",
    "        return 1 / (1 + exp(-1 * net_sum))    ## Value given by sigmoid function\n",
    "    \n",
    "    def predict(self, feature_vector):\n",
    "        net_sum = self.net_sum(feature_vector)\n",
    "        output = self.activate(net_sum)\n",
    "        \n",
    "        if output >= 0.5:\n",
    "            return 1\n",
    "        else:\n",
    "            return 0\n",
    "        \n",
    "    def test(self, features_test, targets_test):\n",
    "        features_test = np.insert(features_test, 0, 1, axis=1)\n",
    "        outputs = []\n",
    "        \n",
    "        for feature_vector in features_test:\n",
    "            outputs.append(self.predict(feature_vector))\n",
    "            \n",
    "        errors = 0\n",
    "        for i, prediction in enumerate(outputs):\n",
    "            if prediction != targets_test[i]:\n",
    "                errors += 1\n",
    "                \n",
    "        return 1 - (errors / len(targets_test))"
   ]
  },
  {
   "cell_type": "code",
   "execution_count": 387,
   "metadata": {},
   "outputs": [],
   "source": [
    "\"\"\"\n",
    "The activation function used by our Logistic Regression model has a \n",
    "range (0, 1), and so we need to adjust targets accordingly.\n",
    "\"\"\"\n",
    "lgr_targets_train = np.where(targets_train == -1, 0, 1)\n",
    "lgr_targets_test = np.where(targets_test == -1, 0, 1)"
   ]
  },
  {
   "cell_type": "code",
   "execution_count": 388,
   "metadata": {},
   "outputs": [
    {
     "name": "stdout",
     "output_type": "stream",
     "text": [
      "Logistic Regression model made predictions on test data with an accuracy of 100.0%\n"
     ]
    }
   ],
   "source": [
    "\"\"\"\n",
    "Training and testing our Logistic Regression model\n",
    "\"\"\"\n",
    "\n",
    "lgr = LogisticRegression()\n",
    "lgr = lgr.fit(features_train_scaled, lgr_targets_train)\n",
    "lgr_accuracy = lgr.test(features_test_scaled, lgr_targets_test)\n",
    "\n",
    "print(f\"Logistic Regression model made predictions on test data with an accuracy of {lgr_accuracy * 100}%\")"
   ]
  },
  {
   "cell_type": "code",
   "execution_count": 389,
   "metadata": {},
   "outputs": [
    {
     "data": {
      "text/html": [
       "<div>\n",
       "<style scoped>\n",
       "    .dataframe tbody tr th:only-of-type {\n",
       "        vertical-align: middle;\n",
       "    }\n",
       "\n",
       "    .dataframe tbody tr th {\n",
       "        vertical-align: top;\n",
       "    }\n",
       "\n",
       "    .dataframe thead th {\n",
       "        text-align: right;\n",
       "    }\n",
       "</style>\n",
       "<table border=\"1\" class=\"dataframe\">\n",
       "  <thead>\n",
       "    <tr style=\"text-align: right;\">\n",
       "      <th></th>\n",
       "      <th>0</th>\n",
       "      <th>1</th>\n",
       "      <th>2</th>\n",
       "      <th>3</th>\n",
       "      <th>4</th>\n",
       "      <th>5</th>\n",
       "      <th>6</th>\n",
       "    </tr>\n",
       "  </thead>\n",
       "  <tbody>\n",
       "    <tr>\n",
       "      <th>0</th>\n",
       "      <td>85</td>\n",
       "      <td>92</td>\n",
       "      <td>45</td>\n",
       "      <td>27</td>\n",
       "      <td>31</td>\n",
       "      <td>0.0</td>\n",
       "      <td>1</td>\n",
       "    </tr>\n",
       "    <tr>\n",
       "      <th>1</th>\n",
       "      <td>85</td>\n",
       "      <td>64</td>\n",
       "      <td>59</td>\n",
       "      <td>32</td>\n",
       "      <td>23</td>\n",
       "      <td>0.0</td>\n",
       "      <td>2</td>\n",
       "    </tr>\n",
       "    <tr>\n",
       "      <th>2</th>\n",
       "      <td>86</td>\n",
       "      <td>54</td>\n",
       "      <td>33</td>\n",
       "      <td>16</td>\n",
       "      <td>54</td>\n",
       "      <td>0.0</td>\n",
       "      <td>2</td>\n",
       "    </tr>\n",
       "    <tr>\n",
       "      <th>3</th>\n",
       "      <td>91</td>\n",
       "      <td>78</td>\n",
       "      <td>34</td>\n",
       "      <td>24</td>\n",
       "      <td>36</td>\n",
       "      <td>0.0</td>\n",
       "      <td>2</td>\n",
       "    </tr>\n",
       "    <tr>\n",
       "      <th>4</th>\n",
       "      <td>87</td>\n",
       "      <td>70</td>\n",
       "      <td>12</td>\n",
       "      <td>28</td>\n",
       "      <td>10</td>\n",
       "      <td>0.0</td>\n",
       "      <td>2</td>\n",
       "    </tr>\n",
       "  </tbody>\n",
       "</table>\n",
       "</div>"
      ],
      "text/plain": [
       "    0   1   2   3   4    5  6\n",
       "0  85  92  45  27  31  0.0  1\n",
       "1  85  64  59  32  23  0.0  2\n",
       "2  86  54  33  16  54  0.0  2\n",
       "3  91  78  34  24  36  0.0  2\n",
       "4  87  70  12  28  10  0.0  2"
      ]
     },
     "execution_count": 389,
     "metadata": {},
     "output_type": "execute_result"
    }
   ],
   "source": [
    "\"\"\"\n",
    "We have verified that our tests work for the iris dataset. As an additional measure\n",
    "we will test all of our models on another classic dataset: the BUPA liver disorders dataset.\n",
    "The models are not expected to generate accurate predictions as none of the classes are linearly\n",
    "separable from the others!\n",
    "\"\"\"\n",
    "data_url = 'ftp://ftp.ics.uci.edu/pub/machine-learning-databases/liver-disorders/bupa.data'\n",
    "bupa = pd.read_csv(data_url, header=None)\n",
    "bupa.head()"
   ]
  },
  {
   "cell_type": "code",
   "execution_count": 390,
   "metadata": {},
   "outputs": [],
   "source": [
    "## Separating features and targets.\n",
    "features = bupa.iloc[:, 0:6].values\n",
    "targets = np.where(bupa[6] == 2, -1, 1)"
   ]
  },
  {
   "cell_type": "code",
   "execution_count": 391,
   "metadata": {},
   "outputs": [],
   "source": [
    "## Train, test split with 20% of the data being used to test our models\n",
    "features_train, features_test, targets_train, targets_test = train_test_split(features, targets, stratify=targets,\n",
    "                                                                             test_size = 0.2)\n",
    "\n",
    "## Special target data for logistic regression\n",
    "lgr_targets_train = np.where(targets_train == -1, 0, 1)\n",
    "lgr_targets_test = np.where(targets_test == -1, 0, 1)"
   ]
  },
  {
   "cell_type": "code",
   "execution_count": 392,
   "metadata": {},
   "outputs": [],
   "source": [
    "## Scaling features for faster gradient descent in Adaline and Logistic Regression\n",
    "sc = StandardScaler()\n",
    "sc = sc.fit(features_train)\n",
    "features_train_scaled = sc.transform(features_train)\n",
    "features_test_scaled = sc.transform(features_test)"
   ]
  },
  {
   "cell_type": "code",
   "execution_count": 393,
   "metadata": {},
   "outputs": [
    {
     "name": "stdout",
     "output_type": "stream",
     "text": [
      "Perceptron made predictions on test data with an accuracy of 68.11594202898551%\n"
     ]
    }
   ],
   "source": [
    "## Testing our perceptron model with the new data\n",
    "ppn = Perceptron()\n",
    "ppn = ppn.fit(features_train_scaled, targets_train)\n",
    "ppn_accuracy = ppn.test(features_test_scaled, targets_test)\n",
    "\n",
    "print(f\"Perceptron made predictions on test data with an accuracy of {ppn_accuracy * 100}%\")"
   ]
  },
  {
   "cell_type": "code",
   "execution_count": 394,
   "metadata": {},
   "outputs": [
    {
     "name": "stdout",
     "output_type": "stream",
     "text": [
      "Adaline made predictions on test data with an accuracy of 55.072463768115945%\n"
     ]
    }
   ],
   "source": [
    "## Testing our adaline model with the new data\n",
    "ad = Adaline()\n",
    "ad = ad.fit(features_train_scaled, targets_train)\n",
    "ad_accuracy = ad.test(features_test_scaled, targets_test)\n",
    "\n",
    "print(f\"Adaline made predictions on test data with an accuracy of {ad_accuracy * 100}%\")"
   ]
  },
  {
   "cell_type": "code",
   "execution_count": 395,
   "metadata": {},
   "outputs": [
    {
     "name": "stdout",
     "output_type": "stream",
     "text": [
      "Logistic Regression model made predictions on test data with an accuracy of 56.52173913043479%\n"
     ]
    }
   ],
   "source": [
    "## Testing our logical regression model with the new data\n",
    "lgr = LogisticRegression()\n",
    "lgr = lgr.fit(features_train_scaled, lgr_targets_train)\n",
    "lgr_accuracy = lgr.test(features_test_scaled, lgr_targets_test)\n",
    "\n",
    "print(f\"Logistic Regression model made predictions on test data with an accuracy of {lgr_accuracy * 100}%\")"
   ]
  }
 ],
 "metadata": {
  "kernelspec": {
   "display_name": "Python 3",
   "language": "python",
   "name": "python3"
  },
  "language_info": {
   "codemirror_mode": {
    "name": "ipython",
    "version": 3
   },
   "file_extension": ".py",
   "mimetype": "text/x-python",
   "name": "python",
   "nbconvert_exporter": "python",
   "pygments_lexer": "ipython3",
   "version": "3.7.4"
  }
 },
 "nbformat": 4,
 "nbformat_minor": 4
}
