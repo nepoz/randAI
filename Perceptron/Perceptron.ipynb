{
 "cells": [
  {
   "cell_type": "code",
   "execution_count": 288,
   "metadata": {},
   "outputs": [],
   "source": [
    "import pandas as pd \n",
    "import numpy as np\n",
    "import matplotlib.pyplot as plt\n",
    "from sklearn.model_selection import train_test_split"
   ]
  },
  {
   "cell_type": "code",
   "execution_count": 15,
   "metadata": {},
   "outputs": [
    {
     "data": {
      "text/html": [
       "<div>\n",
       "<style scoped>\n",
       "    .dataframe tbody tr th:only-of-type {\n",
       "        vertical-align: middle;\n",
       "    }\n",
       "\n",
       "    .dataframe tbody tr th {\n",
       "        vertical-align: top;\n",
       "    }\n",
       "\n",
       "    .dataframe thead th {\n",
       "        text-align: right;\n",
       "    }\n",
       "</style>\n",
       "<table border=\"1\" class=\"dataframe\">\n",
       "  <thead>\n",
       "    <tr style=\"text-align: right;\">\n",
       "      <th></th>\n",
       "      <th>0</th>\n",
       "      <th>1</th>\n",
       "      <th>2</th>\n",
       "      <th>3</th>\n",
       "      <th>4</th>\n",
       "    </tr>\n",
       "  </thead>\n",
       "  <tbody>\n",
       "    <tr>\n",
       "      <th>145</th>\n",
       "      <td>6.7</td>\n",
       "      <td>3.0</td>\n",
       "      <td>5.2</td>\n",
       "      <td>2.3</td>\n",
       "      <td>Iris-virginica</td>\n",
       "    </tr>\n",
       "    <tr>\n",
       "      <th>146</th>\n",
       "      <td>6.3</td>\n",
       "      <td>2.5</td>\n",
       "      <td>5.0</td>\n",
       "      <td>1.9</td>\n",
       "      <td>Iris-virginica</td>\n",
       "    </tr>\n",
       "    <tr>\n",
       "      <th>147</th>\n",
       "      <td>6.5</td>\n",
       "      <td>3.0</td>\n",
       "      <td>5.2</td>\n",
       "      <td>2.0</td>\n",
       "      <td>Iris-virginica</td>\n",
       "    </tr>\n",
       "    <tr>\n",
       "      <th>148</th>\n",
       "      <td>6.2</td>\n",
       "      <td>3.4</td>\n",
       "      <td>5.4</td>\n",
       "      <td>2.3</td>\n",
       "      <td>Iris-virginica</td>\n",
       "    </tr>\n",
       "    <tr>\n",
       "      <th>149</th>\n",
       "      <td>5.9</td>\n",
       "      <td>3.0</td>\n",
       "      <td>5.1</td>\n",
       "      <td>1.8</td>\n",
       "      <td>Iris-virginica</td>\n",
       "    </tr>\n",
       "  </tbody>\n",
       "</table>\n",
       "</div>"
      ],
      "text/plain": [
       "       0    1    2    3               4\n",
       "145  6.7  3.0  5.2  2.3  Iris-virginica\n",
       "146  6.3  2.5  5.0  1.9  Iris-virginica\n",
       "147  6.5  3.0  5.2  2.0  Iris-virginica\n",
       "148  6.2  3.4  5.4  2.3  Iris-virginica\n",
       "149  5.9  3.0  5.1  1.8  Iris-virginica"
      ]
     },
     "execution_count": 15,
     "metadata": {},
     "output_type": "execute_result"
    }
   ],
   "source": [
    "## Read in iris data from csv, display tail to make sure we're on the right track\n",
    "\n",
    "iris = pd.read_csv('iris.data', header=None)\n",
    "iris.tail()"
   ]
  },
  {
   "cell_type": "code",
   "execution_count": 104,
   "metadata": {},
   "outputs": [
    {
     "data": {
      "image/png": "[encoded data removed]",
      "text/plain": [
       "<Figure size 432x288 with 1 Axes>"
      ]
     },
     "metadata": {
      "needs_background": "light"
     },
     "output_type": "display_data"
    }
   ],
   "source": [
    "## Getting values and getting a scatter plot for sepal width vs. petal length\n",
    "\n",
    "setosas = iris.iloc[0:50]\n",
    "versicolors = iris.iloc[50:100]\n",
    "virginicas = iris.iloc[100:]\n",
    "\n",
    "plt.scatter(setosas[1], setosas[2], color='r', label=\"Iris-setosa\")\n",
    "plt.scatter(versicolors[1], versicolors[2], color='b', label=\"Iris-versicolor\")\n",
    "plt.scatter(virginicas[1], virginicas[2], color='g', label=\"Iris-virginica\")\n",
    "plt.xlabel(\"Sepal width in cm\")\n",
    "plt.ylabel(\"Petal length in cm\")\n",
    "plt.legend(loc='right')\n",
    "\n",
    "plt.show()"
   ]
  },
  {
   "cell_type": "code",
   "execution_count": 283,
   "metadata": {},
   "outputs": [],
   "source": [
    "'''It seems that on the basis of features sepal width and petal length, iris setosa is linearly separable\n",
    "For simplicity, we will be looking at flowers that are either setosa or versicolor.'''\n",
    "\n",
    "## Features that will be looked at: Sepal width, petal length\n",
    "inputs = list(zip(iris.iloc[0:100][1], iris.iloc[0:100][3]))\n",
    "\n",
    "## Cleaning up versicolor and setosa results to be either 1 or -1\n",
    "targets = np.where(iris.iloc[0:100][4] == 'Iris-setosa', 1, -1)"
   ]
  },
  {
   "cell_type": "code",
   "execution_count": 297,
   "metadata": {},
   "outputs": [],
   "source": [
    "'''Here, we provide the Perceptron class that will be our model'''\n",
    "class Perceptron(object):\n",
    "    \n",
    "    def __init__(self, learning_rate=0.01, random_seed=1, epochs=50):\n",
    "        self.learning_rate = learning_rate\n",
    "        self.random_seed = random_seed,\n",
    "        self.epochs = epochs\n",
    "        \n",
    "    ## Method that fits model to specific training data\n",
    "    def fit(self, features, targets): \n",
    "\n",
    "        self.w_ = np.random.rand(len(features[0]) + 1)\n",
    "        current_epoch = 0\n",
    "        \n",
    "        while (current_epoch < self.epochs):\n",
    "            for xi, y in zip(features, targets):\n",
    "                output = self.predict(xi)\n",
    "                error = y - output\n",
    "                \n",
    "                ## Update the weights\n",
    "                for i in range(1, len(xi) + 1):\n",
    "                    correction_val = self.learning_rate * error * xi[i - 1]\n",
    "                    self.w_[i] += correction_val\n",
    "                self.w_[0] += self.learning_rate * error\n",
    "                \n",
    "            current_epoch += 1\n",
    "        return self\n",
    "        \n",
    "        \n",
    "    def net_sum(self, features):\n",
    "        return (np.dot(self.w_[1:], np.transpose(features)) + self.w_[0])\n",
    "    \n",
    "    def predict(self, features):\n",
    "        net_sum = self.net_sum(features)\n",
    "        \n",
    "        if net_sum > 0:\n",
    "            return 1\n",
    "        else:\n",
    "            return - 1"
   ]
  },
  {
   "cell_type": "code",
   "execution_count": 301,
   "metadata": {},
   "outputs": [
    {
     "name": "stdout",
     "output_type": "stream",
     "text": [
      "Perceptron is distinguishing setosas from versicolors with an accuracy of 100.0%\n"
     ]
    }
   ],
   "source": [
    "'''The big test, let us see if our model can actually do something'''\n",
    "\n",
    "## Using sklearn train, test split\n",
    "inputs_train, inputs_test, targets_train, targets_test = train_test_split(inputs, targets)\n",
    "\n",
    "## Training the model \n",
    "ppn = Perceptron()\n",
    "ppn = ppn.fit(inputs_train, targets_train)\n",
    "\n",
    "def test_perceptron(ppn, inputs_test, targets_test):\n",
    "    \n",
    "    errors = 0\n",
    "    for xi, y in zip(inputs_test, targets_test):\n",
    "        output = ppn.predict(xi)\n",
    "        error = output - y\n",
    "        \n",
    "        if error != 0:\n",
    "            errors += 1\n",
    "            \n",
    "    return 1 - (errors / len(inputs_test))\n",
    "\n",
    "accuracy = test_perceptron(ppn, inputs_test, targets_test)\n",
    "print(f\"Perceptron is distinguishing setosas from versicolors with an accuracy of {accuracy * 100}%\")"
   ]
  }
 ],
 "metadata": {
  "kernelspec": {
   "display_name": "Python 3",
   "language": "python",
   "name": "python3"
  },
  "language_info": {
   "codemirror_mode": {
    "name": "ipython",
    "version": 3
   },
   "file_extension": ".py",
   "mimetype": "text/x-python",
   "name": "python",
   "nbconvert_exporter": "python",
   "pygments_lexer": "ipython3",
   "version": "3.7.3"
  }
 },
 "nbformat": 4,
 "nbformat_minor": 4
}
